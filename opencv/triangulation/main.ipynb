{
 "cells": [
  {
   "cell_type": "markdown",
   "metadata": {},
   "source": [
    "**Given:**\n",
    "  - Two 2D points ( $( \\mathbf{x_1} = (x_1, y_1) )$ and $( \\mathbf{x_2} = (x_2, y_2) )$ ) from different images.\n",
    "  - Intrinsic camera matrices $( \\mathbf{K_1} )$ and $( \\mathbf{K_2} )$.\n",
    "  - Camera pose (Rotation $( \\mathbf{R} )$ and translation $( \\mathbf{t} )$ between the cameras).\n",
    "\n",
    "**Objective:**\n",
    "  - Reconstruct the corresponding 3D point $( \\mathbf{X} )$."
   ]
  },
  {
   "cell_type": "code",
   "execution_count": 1,
   "metadata": {},
   "outputs": [],
   "source": [
    "import numpy as np"
   ]
  },
  {
   "cell_type": "markdown",
   "metadata": {},
   "source": [
    "**Normalized Image Points:** Convert pixel coordinates to normalized camera coordinates (coordinates in the camera's own coordinate system).\n",
    "  \n",
    "  $$\n",
    "  \\tilde{\\mathbf{x}} = \\mathbf{K}^{-1} \\begin{pmatrix} x \\\\ y \\\\ 1 \\end{pmatrix}\n",
    "  $$"
   ]
  },
  {
   "cell_type": "code",
   "execution_count": 2,
   "metadata": {},
   "outputs": [],
   "source": [
    "def normalize_image_point(x, K):\n",
    "    \"\"\"\n",
    "    Normalize image point using the intrinsic matrix.\n",
    "    x: (x, y) image point\n",
    "    K: Intrinsic camera matrix\n",
    "    Returns normalized image point in homogeneous coordinates\n",
    "    \"\"\"\n",
    "    x_homog = np.array([x[0], x[1], 1.0])\n",
    "    x_norm = np.linalg.inv(K) @ x_homog\n",
    "    return x_norm"
   ]
  },
  {
   "cell_type": "markdown",
   "metadata": {},
   "source": [
    "Compute the projection matrices $( \\mathbf{P_1} )$ and $( \\mathbf{P_2} )$ for the two cameras.\n",
    "\n",
    "**Explanation:**\n",
    "\n",
    "- **First Camera (Reference Frame):**\n",
    "\n",
    "  $$\n",
    "  \\mathbf{P}_1 = \\mathbf{K}_1 \\left[ \\mathbf{I} \\ | \\ \\mathbf{0} \\right]\n",
    "  $$\n",
    "\n",
    "- **Second Camera:**\n",
    "\n",
    "  $$\n",
    "  \\mathbf{P}_2 = \\mathbf{K}_2 \\left[ \\mathbf{R} \\ | \\ \\mathbf{t} \\right]\n",
    "  $$"
   ]
  },
  {
   "cell_type": "code",
   "execution_count": 4,
   "metadata": {},
   "outputs": [],
   "source": [
    "def compute_projection_matrix(K, R=np.eye(3), t=np.zeros((3, 1))):\n",
    "    \"\"\"\n",
    "    Compute the projection matrix P = K [R | t]\n",
    "    K: Intrinsic matrix\n",
    "    R: Rotation matrix (3x3)\n",
    "    t: Translation vector (3x1)\n",
    "    \"\"\"\n",
    "    RT = np.hstack((R, t.reshape(3, 1)))\n",
    "    P = K @ RT\n",
    "    return P"
   ]
  },
  {
   "cell_type": "markdown",
   "metadata": {},
   "source": [
    "Set up a linear system $( \\mathbf{A} \\mathbf{X} = 0 )$ to solve for the 3D point $( \\mathbf{X} )$.\n",
    "\n",
    "**Explanation:**\n",
    "\n",
    "- For each camera, we have:\n",
    "\n",
    "  $$[\n",
    "  \\mathbf{x} \\times (\\mathbf{P} \\mathbf{X}) = 0\n",
    "  ]$$\n",
    "\n",
    "- The cross product leads to two equations per image point (since the homogeneous scale can be absorbed).\n",
    "\n",
    "- Stack the equations from both images to form an $( 4 \\times 4 )$ linear system."
   ]
  },
  {
   "cell_type": "code",
   "execution_count": 5,
   "metadata": {},
   "outputs": [],
   "source": [
    "def construct_linear_system(x1_norm, x2_norm, P1, P2):\n",
    "    \"\"\"\n",
    "    Construct the linear system A X = 0\n",
    "    x1_norm, x2_norm: Normalized image points in homogeneous coordinates\n",
    "    P1, P2: Projection matrices\n",
    "    Returns matrix A\n",
    "    \"\"\"\n",
    "    A = np.zeros((4, 4))\n",
    "    # First image\n",
    "    A[0] = x1_norm[0] * P1[2] - P1[0]\n",
    "    A[1] = x1_norm[1] * P1[2] - P1[1]\n",
    "    # Second image\n",
    "    A[2] = x2_norm[0] * P2[2] - P2[0]\n",
    "    A[3] = x2_norm[1] * P2[2] - P2[1]\n",
    "    return A"
   ]
  },
  {
   "cell_type": "markdown",
   "metadata": {},
   "source": [
    "Use Singular Value Decomposition (SVD) to solve the homogeneous system $( \\mathbf{A} \\mathbf{X} = 0 )$."
   ]
  },
  {
   "cell_type": "code",
   "execution_count": 7,
   "metadata": {},
   "outputs": [],
   "source": [
    "def solve_linear_system(A):\n",
    "    \"\"\"\n",
    "    Solve the linear system A X = 0 using SVD\n",
    "    Returns X in homogeneous coordinates\n",
    "    \"\"\"\n",
    "    U, S, Vt = np.linalg.svd(A)\n",
    "    X = Vt[-1]\n",
    "    return X"
   ]
  },
  {
   "cell_type": "markdown",
   "metadata": {},
   "source": []
  },
  {
   "cell_type": "code",
   "execution_count": null,
   "metadata": {},
   "outputs": [],
   "source": [
    "def dehomogenize(X):\n",
    "    \"\"\"\n",
    "    Convert homogeneous coordinates to 3D coordinates\n",
    "    X: Homogeneous coordinates (4 elements)\n",
    "    Returns 3D coordinates (3 elements)\n",
    "    \"\"\"\n",
    "    return X[0:3] / X[3]"
   ]
  },
  {
   "cell_type": "code",
   "execution_count": null,
   "metadata": {},
   "outputs": [],
   "source": [
    "def triangulate_point(x1, x2, K1, K2, R, t):\n",
    "    \"\"\"\n",
    "    Triangulate a 3D point from two 2D image points.\n",
    "    x1, x2: Image points in pixel coordinates (tuples or lists of (x, y))\n",
    "    K1, K2: Intrinsic camera matrices\n",
    "    R: Rotation matrix from camera 1 to camera 2\n",
    "    t: Translation vector from camera 1 to camera 2\n",
    "    Returns 3D point coordinates\n",
    "    \"\"\"\n",
    "    # Step 1: Normalize image points\n",
    "    x1_norm = normalize_image_point(x1, K1)\n",
    "    x2_norm = normalize_image_point(x2, K2)\n",
    "    \n",
    "    # Step 2: Compute projection matrices\n",
    "    P1 = compute_projection_matrix(K1)\n",
    "    P2 = compute_projection_matrix(K2, R, t)\n",
    "    \n",
    "    # Step 3: Set up the linear system\n",
    "    A = construct_linear_system(x1_norm, x2_norm, P1, P2)\n",
    "    \n",
    "    # Step 4: Solve for X using SVD\n",
    "    X_homog = solve_linear_system(A)\n",
    "    \n",
    "    # Step 5: Dehomogenize coordinate\n",
    "    X = dehomogenize(X_homog)\n",
    "    return X"
   ]
  },
  {
   "cell_type": "code",
   "execution_count": 8,
   "metadata": {},
   "outputs": [
    {
     "name": "stdout",
     "output_type": "stream",
     "text": [
      "Reconstructed 3D point: [ 2.73769856  2.93010083 -3.44638   ]\n"
     ]
    }
   ],
   "source": [
    "import numpy as np\n",
    "\n",
    "def normalize_image_point(x, K):\n",
    "    x_homog = np.array([x[0], x[1], 1.0])\n",
    "    x_norm = np.linalg.inv(K) @ x_homog\n",
    "    return x_norm\n",
    "\n",
    "def compute_projection_matrix(K, R=np.eye(3), t=np.zeros((3, 1))):\n",
    "    RT = np.hstack((R, t.reshape(3, 1)))\n",
    "    P = K @ RT\n",
    "    return P\n",
    "\n",
    "def construct_linear_system(x1_norm, x2_norm, P1, P2):\n",
    "    A = np.zeros((4, 4))\n",
    "    A[0] = x1_norm[0] * P1[2] - P1[0]\n",
    "    A[1] = x1_norm[1] * P1[2] - P1[1]\n",
    "    A[2] = x2_norm[0] * P2[2] - P2[0]\n",
    "    A[3] = x2_norm[1] * P2[2] - P2[1]\n",
    "    return A\n",
    "\n",
    "def solve_linear_system(A):\n",
    "    U, S, Vt = np.linalg.svd(A)\n",
    "    X = Vt[-1]\n",
    "    return X\n",
    "\n",
    "def dehomogenize(X):\n",
    "    return X[0:3] / X[3]\n",
    "\n",
    "def triangulate_point(x1, x2, K1, K2, R, t):\n",
    "    x1_norm = normalize_image_point(x1, K1)\n",
    "    x2_norm = normalize_image_point(x2, K2)\n",
    "    P1 = compute_projection_matrix(K1)\n",
    "    P2 = compute_projection_matrix(K2, R, t)\n",
    "    A = construct_linear_system(x1_norm, x2_norm, P1, P2)\n",
    "    X_homog = solve_linear_system(A)\n",
    "    X = dehomogenize(X_homog)\n",
    "    return X\n",
    "\n",
    "# Example intrinsic parameters\n",
    "fx = fy = 800  # Focal length in pixels\n",
    "cx = cy = 640  # Principal point\n",
    "\n",
    "K1 = np.array([[fx,  0, cx],\n",
    "               [ 0, fy, cy],\n",
    "               [ 0,  0,  1]])\n",
    "K2 = K1.copy()\n",
    "\n",
    "# Example rotation and translation\n",
    "theta = np.deg2rad(10)  # Rotation around y-axis by 10 degrees\n",
    "R = np.array([[ np.cos(theta), 0, np.sin(theta)],\n",
    "              [            0, 1,            0],\n",
    "              [-np.sin(theta), 0, np.cos(theta)]])\n",
    "\n",
    "t = np.array([1, 0, 0])  # Translation along x-axis\n",
    "\n",
    "# Example image points\n",
    "x1 = (650, 500)  # Point in image 1\n",
    "x2 = (620, 480)  # Corresponding point in image 2\n",
    "\n",
    "# Triangulate the point\n",
    "X = triangulate_point(x1, x2, K1, K2, R, t)\n",
    "\n",
    "print(\"Reconstructed 3D point:\", X)"
   ]
  }
 ],
 "metadata": {
  "kernelspec": {
   "display_name": ".env",
   "language": "python",
   "name": "python3"
  },
  "language_info": {
   "codemirror_mode": {
    "name": "ipython",
    "version": 3
   },
   "file_extension": ".py",
   "mimetype": "text/x-python",
   "name": "python",
   "nbconvert_exporter": "python",
   "pygments_lexer": "ipython3",
   "version": "3.10.11"
  }
 },
 "nbformat": 4,
 "nbformat_minor": 2
}
